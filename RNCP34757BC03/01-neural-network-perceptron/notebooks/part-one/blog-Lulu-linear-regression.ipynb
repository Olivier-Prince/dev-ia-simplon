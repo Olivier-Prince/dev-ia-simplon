{
 "cells": [
  {
   "cell_type": "markdown",
   "metadata": {},
   "source": [
    "# Ressources  \n",
    "\n",
    "* https://keras.io/about/  \n",
    "* https://lucidar.me/fr/neural-networks/simplest-neural-netwok-ever/  \n"
   ]
  },
  {
   "cell_type": "code",
   "execution_count": 1,
   "metadata": {},
   "outputs": [],
   "source": [
    "import numpy as np\n",
    "import matplotlib.pyplot as plt\n",
    "from tensorflow import keras"
   ]
  },
  {
   "cell_type": "code",
   "execution_count": 3,
   "metadata": {},
   "outputs": [],
   "source": [
    "# Parameters (y = a*x + b)\n",
    "a = 0.6\n",
    "b = 2\n",
    "\n",
    "# Create noisy data\n",
    "x_data = np.linspace(-10, 10, num=100000)\n",
    "y_data = a * x_data + b + np.random.normal(size=100000)"
   ]
  },
  {
   "cell_type": "code",
   "execution_count": 4,
   "metadata": {},
   "outputs": [
    {
     "name": "stdout",
     "output_type": "stream",
     "text": [
      "Model: \"sequential\"\n",
      "_________________________________________________________________\n",
      "Layer (type)                 Output Shape              Param #   \n",
      "=================================================================\n",
      "dense (Dense)                (None, 1)                 2         \n",
      "=================================================================\n",
      "Total params: 2\n",
      "Trainable params: 2\n",
      "Non-trainable params: 0\n",
      "_________________________________________________________________\n"
     ]
    }
   ],
   "source": [
    "# Create the model \n",
    "model = keras.Sequential()\n",
    "model.add(keras.layers.Dense(units=1, activation='linear', input_shape=[1]))\n",
    "model.compile(loss='mse', optimizer=\"adam\")\n",
    "\n",
    "# Display the model (only 2 parameters to optimize)\n",
    "model.summary()"
   ]
  },
  {
   "cell_type": "code",
   "execution_count": 5,
   "metadata": {},
   "outputs": [
    {
     "name": "stdout",
     "output_type": "stream",
     "text": [
      "Epoch 1/5\n",
      "3125/3125 [==============================] - 11s 3ms/step - loss: 3.2435\n",
      "Epoch 2/5\n",
      "3125/3125 [==============================] - 9s 3ms/step - loss: 1.0108\n",
      "Epoch 3/5\n",
      "3125/3125 [==============================] - 10s 3ms/step - loss: 1.0036\n",
      "Epoch 4/5\n",
      "3125/3125 [==============================] - 10s 3ms/step - loss: 1.0135\n",
      "Epoch 5/5\n",
      "3125/3125 [==============================] - 9s 3ms/step - loss: 1.0112\n"
     ]
    },
    {
     "data": {
      "text/plain": [
       "<tensorflow.python.keras.callbacks.History at 0x7fb46d0b7160>"
      ]
     },
     "execution_count": 5,
     "metadata": {},
     "output_type": "execute_result"
    }
   ],
   "source": [
    "# Learn\n",
    "model.fit( x_data, y_data, epochs=5, verbose=1)"
   ]
  },
  {
   "cell_type": "code",
   "execution_count": 6,
   "metadata": {},
   "outputs": [
    {
     "data": {
      "image/png": "[encoded data removed]",
      "text/plain": [
       "<Figure size 432x288 with 1 Axes>"
      ]
     },
     "metadata": {
      "needs_background": "light"
     },
     "output_type": "display_data"
    }
   ],
   "source": [
    "# Predict (compute) the output \n",
    "y_pred = model.predict(x_data)\n",
    "\n",
    "# Display the result\n",
    "plt.scatter(x_data[::500], y_data[::500])\n",
    "plt.plot(x_data, y_pred, 'r', linewidth=4)\n",
    "plt.grid()\n",
    "plt.show()"
   ]
  },
  {
   "cell_type": "code",
   "execution_count": 8,
   "metadata": {},
   "outputs": [
    {
     "name": "stdout",
     "output_type": "stream",
     "text": [
      "<tf.Variable 'dense/kernel:0' shape=(1, 1) dtype=float32, numpy=array([[0.59791857]], dtype=float32)>\n",
      "<tf.Variable 'dense/bias:0' shape=(1,) dtype=float32, numpy=array([1.9934527], dtype=float32)>\n"
     ]
    }
   ],
   "source": [
    "for i in [0, 1]:\n",
    "    print(model.trainable_variables[i])"
   ]
  },
  {
   "cell_type": "code",
   "execution_count": null,
   "metadata": {},
   "outputs": [],
   "source": []
  }
 ],
 "metadata": {
  "kernelspec": {
   "display_name": "Python 3",
   "language": "python",
   "name": "python3"
  },
  "language_info": {
   "codemirror_mode": {
    "name": "ipython",
    "version": 3
   },
   "file_extension": ".py",
   "mimetype": "text/x-python",
   "name": "python",
   "nbconvert_exporter": "python",
   "pygments_lexer": "ipython3",
   "version": "3.8.8"
  }
 },
 "nbformat": 4,
 "nbformat_minor": 4
}
