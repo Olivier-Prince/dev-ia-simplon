{
 "cells": [
  {
   "cell_type": "markdown",
   "id": "suspended-spiritual",
   "metadata": {},
   "source": [
    "# Ressources  \n",
    "\n",
    "* https://keras.io/about/  \n"
   ]
  },
  {
   "cell_type": "markdown",
   "id": "royal-treatment",
   "metadata": {},
   "source": [
    "# Exemple de descente de gradient  \n",
    "\n",
    "* https://lucidar.me/fr/neural-networks/gradient-descent-example/  \n"
   ]
  },
  {
   "cell_type": "code",
   "execution_count": 1,
   "id": "encouraging-season",
   "metadata": {},
   "outputs": [
    {
     "name": "stdout",
     "output_type": "stream",
     "text": [
      "[30, 20]\n",
      "X = [2.000000019754222, 3.000000000000001]\n",
      "f = 3.9022927947211357e-16\n"
     ]
    }
   ],
   "source": [
    "import numpy as np\n",
    "\n",
    "# Function to minimize\n",
    "def function(X):\n",
    "    return (X[0]-2)**2 + 2*(X[1]-3)**2\n",
    "\n",
    "# Gradient of the function\n",
    "def gradient(X):\n",
    "    return np.array([2*X[0]-4, 4*X[1]-12])\n",
    "\n",
    "# Starting point\n",
    "X = np.array([30, 20])\n",
    "print(list(X))\n",
    "\n",
    "# Step size multiplier\n",
    "alpha = 0.05\n",
    "\n",
    "# Gradient descent (200 steps)\n",
    "for x in range(0, 200):\n",
    "    X = X - alpha * gradient(X)\n",
    "    #print('X =', X)\n",
    "\n",
    "# Print results\n",
    "print('X =', list(X))\n",
    "print('f =', function(X))\n"
   ]
  },
  {
   "cell_type": "markdown",
   "id": "fatal-knife",
   "metadata": {},
   "source": [
    "# How to Use Metrics for Deep Learning with Keras in Python\n",
    "\n",
    "* https://machinelearningmastery.com/custom-metrics-deep-learning-keras-python/  \n"
   ]
  },
  {
   "cell_type": "code",
   "execution_count": 2,
   "id": "dangerous-playback",
   "metadata": {},
   "outputs": [],
   "source": [
    "from tensorflow import keras\n",
    "import matplotlib.pyplot as plt\n",
    "\n",
    "# prepare sequence\n",
    "X = np.array([0.1, 0.2, 0.3, 0.4, 0.5, 0.6, 0.7, 0.8, 0.9, 1.0])\n",
    "\n",
    "# create model\n",
    "model = keras.Sequential()\n",
    "model.add(keras.layers.Dense(2, input_dim=1))\n",
    "model.add(keras.layers.Dense(1))\n",
    "model.compile(loss='mse', optimizer='adam', metrics=['mse', 'mae', 'mape'])\n",
    "\n",
    "# train model\n",
    "history = model.fit(X, X, epochs=500, batch_size=len(X), verbose=0)\n"
   ]
  },
  {
   "cell_type": "code",
   "execution_count": 3,
   "id": "intimate-foundation",
   "metadata": {},
   "outputs": [
    {
     "data": {
      "image/png": "[encoded data removed]",
      "text/plain": [
       "<Figure size 432x288 with 1 Axes>"
      ]
     },
     "metadata": {
      "needs_background": "light"
     },
     "output_type": "display_data"
    }
   ],
   "source": [
    "# plot metrics\n",
    "plt.plot(history.history['mse'], label='MSE')\n",
    "plt.plot(history.history['mae'], label='MAE')\n",
    "plt.plot(history.history['mape'], label='MAPE')\n",
    "plt.grid()\n",
    "plt.legend()\n",
    "plt.show()"
   ]
  },
  {
   "cell_type": "code",
   "execution_count": null,
   "id": "fresh-philosophy",
   "metadata": {},
   "outputs": [],
   "source": []
  }
 ],
 "metadata": {
  "kernelspec": {
   "display_name": "Python 3",
   "language": "python",
   "name": "python3"
  },
  "language_info": {
   "codemirror_mode": {
    "name": "ipython",
    "version": 3
   },
   "file_extension": ".py",
   "mimetype": "text/x-python",
   "name": "python",
   "nbconvert_exporter": "python",
   "pygments_lexer": "ipython3",
   "version": "3.8.2"
  }
 },
 "nbformat": 4,
 "nbformat_minor": 5
}
